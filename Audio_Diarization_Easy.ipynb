{
  "nbformat": 4,
  "nbformat_minor": 0,
  "metadata": {
    "colab": {
      "provenance": [],
      "gpuType": "T4"
    },
    "kernelspec": {
      "name": "python3",
      "display_name": "Python 3"
    },
    "language_info": {
      "name": "python"
    },
    "accelerator": "GPU"
  },
  "cells": [
    {
      "cell_type": "markdown",
      "source": [
        "Credits:\n",
        "\n",
        "\n",
        "*   Poopmaster for something\n",
        "*   Chat gpt for yes\n",
        "*   [Pyannote](https://github.com/pyannote/pyannote-audio)\n"
      ],
      "metadata": {
        "id": "Pczb0Ks6QoQy"
      }
    },
    {
      "cell_type": "code",
      "execution_count": null,
      "metadata": {
        "id": "Hr6Z3E3KL3GN",
        "cellView": "form"
      },
      "outputs": [],
      "source": [
        "#@title Download pyannote and connect to drive\n",
        "!pip install pyannote-audio pyannote-core pydub\n",
        "from google.colab import drive\n",
        "drive.mount('/content/drive')\n"
      ]
    },
    {
      "cell_type": "code",
      "source": [
        "#@title Diarization\n",
        "from pyannote.audio.pipelines import SpeakerDiarization\n",
        "from pyannote.audio import Pipeline\n",
        "from pydub import AudioSegment\n",
        "import os\n",
        "import torch\n",
        "\n",
        "HUGGINGFACE_ACCESS_TOKEN_GOES_HERE = \"\" #@param {type:\"string\"}\n",
        "pipeline = Pipeline.from_pretrained(\n",
        "    \"pyannote/speaker-diarization-3.1\",\n",
        "    use_auth_token=HUGGINGFACE_ACCESS_TOKEN_GOES_HERE\n",
        ")\n",
        "\n",
        "# Check if GPU is available\n",
        "if torch.cuda.is_available():\n",
        "    # Send pipeline to GPU\n",
        "    pipeline.to(torch.device(\"cuda\"))\n",
        "    print(\"Pipeline sent to GPU\")\n",
        "\n",
        "\n",
        "# Function to perform speaker diarization and export speaker audio segments\n",
        "def export_speaker_audio(input_audio_path, output_dir):\n",
        "    # Load pretrained speaker diarization pipeline\n",
        "    diarization_pipeline = SpeakerDiarization.from_pretrained(\"pyannote/speaker-diarization-3.1\")\n",
        "\n",
        "    # Apply diarization to the audio file\n",
        "    diarization_result = diarization_pipeline({'uri': 'filename', 'audio': input_audio_path})\n",
        "\n",
        "    # Create output directory to store individual speaker audio files\n",
        "    os.makedirs(output_dir, exist_ok=True)\n",
        "\n",
        "    for i, (turn, _, speaker) in enumerate(diarization_result.itertracks(yield_label=True)):\n",
        "        speaker_audio = AudioSegment.from_wav(input_audio_path)[int(turn.start * 1000):int(turn.end * 1000)]\n",
        "        output_path = os.path.join(output_dir, f'speaker_{speaker}_{i+1}.wav')\n",
        "        speaker_audio.export(output_path, format=\"wav\")\n",
        "        print(f\"Exported speaker {speaker} audio to: {output_path}\")\n",
        "\n",
        "# Input audio file path\n",
        "input_audio_path = '/content/drive/MyDrive/test.wav' #@param {type:\"string\"}\n",
        "\n",
        "# Output directory for individual speaker audio files\n",
        "output_directory = '/content/speaker_audio'\n",
        "\n",
        "# Perform speaker diarization and export speaker audio segments\n",
        "export_speaker_audio(input_audio_path, output_directory)\n",
        "\n"
      ],
      "metadata": {
        "id": "V94mkYVbhDM6",
        "cellView": "form"
      },
      "execution_count": null,
      "outputs": []
    },
    {
      "cell_type": "code",
      "source": [
        "#@title Export to drive\n",
        "import os\n",
        "import shutil\n",
        "from google.colab import drive\n",
        "\n",
        "# Define the path to your audio files\n",
        "audio_files_path = '/content/speaker_audio'\n",
        "\n",
        "# Create a function to extract the speaker number from the filename\n",
        "def extract_speaker_number(filename):\n",
        "    return int(filename.split('_')[2])\n",
        "\n",
        "# Create a function to move the files to the corresponding folders\n",
        "def move_files_to_folders():\n",
        "    for filename in os.listdir(audio_files_path):\n",
        "        if filename.endswith('.wav'):\n",
        "            speaker_number = extract_speaker_number(filename)\n",
        "            folder_path = os.path.join(audio_files_path, f'speaker_{speaker_number}')\n",
        "\n",
        "            # Create the folder if it doesn't exist\n",
        "            if not os.path.exists(folder_path):\n",
        "                os.makedirs(folder_path)\n",
        "\n",
        "            # Move the file to the corresponding folder\n",
        "            shutil.move(os.path.join(audio_files_path, filename), os.path.join(folder_path, filename))\n",
        "            print(f'Moved {filename} to {folder_path}')\n",
        "\n",
        "# Call the function to move files to folders\n",
        "move_files_to_folders()\n",
        "\n",
        "# Source directory\n",
        "src_directory = \"/content/speaker_audio\"\n",
        "\n",
        "# Destination directory in Google Drive\n",
        "dst_directory = \"/content/drive/My Drive/Audio_Diarization\"\n",
        "\n",
        "# Create the destination directory if it doesn't exist\n",
        "shutil.copytree(src_directory, dst_directory)\n"
      ],
      "metadata": {
        "id": "4C5W1tZXxqCk",
        "cellView": "form"
      },
      "execution_count": null,
      "outputs": []
    }
  ]
}
